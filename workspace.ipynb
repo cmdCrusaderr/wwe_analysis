{
 "cells": [
  {
   "cell_type": "code",
   "execution_count": 2,
   "metadata": {},
   "outputs": [],
   "source": [
    "#importing pandas package\n",
    "import pandas as pd\n",
    "\n",
    "#importing seaborn as package\n",
    "import seaborn as sb\n",
    "\n",
    "import matplotlib.pylot as plt"
   ]
  },
  {
   "cell_type": "code",
   "execution_count": 3,
   "metadata": {},
   "outputs": [
    {
     "name": "stdout",
     "output_type": "stream",
     "text": [
      "                 name  reign  days       date              event  \\\n",
      "0        Buddy Rogers      1    36  11-Apr-63         House show   \n",
      "1    Bruno Sammartino      1  2803  17-May-63         House show   \n",
      "2         Ivan Koloff      1    21  18-Jan-71         House show   \n",
      "3       Pedro Morales      1  1027   8-Feb-71         House show   \n",
      "4        Stan Stasiak      1     9   1-Dec-73         House show   \n",
      "..                ...    ...   ...        ...                ...   \n",
      "407       Becky Lynch      3    41   8-Apr-19    WrestleMania 35   \n",
      "408   Charlotte Flair      4     0  19-May-19  Money in the Bank   \n",
      "409            Bayley      1   140  19-May-19  Money in the Bank   \n",
      "410   Charlotte Flair      5     5   6-Oct-19     Hell in a Cell   \n",
      "411            Bayley      2   247  11-Oct-19          SmackDown   \n",
      "\n",
      "                location                           link  \\\n",
      "0       Washington, D.C.  /wiki/Buddy_Rogers_(wrestler)   \n",
      "1           New York, NY         /wiki/Bruno_Sammartino   \n",
      "2           New York, NY              /wiki/Ivan_Koloff   \n",
      "3           New York, NY            /wiki/Pedro_Morales   \n",
      "4       Philadelphia, PA             /wiki/Stan_Stasiak   \n",
      "..                   ...                            ...   \n",
      "407  East Rutherford, NJ              /wiki/Becky_Lynch   \n",
      "408         Hartford, CT          /wiki/Charlotte_Flair   \n",
      "409         Hartford, CT        /wiki/Bayley_(wrestler)   \n",
      "410       Sacramento, CA          /wiki/Charlotte_Flair   \n",
      "411         Paradise, NV        /wiki/Bayley_(wrestler)   \n",
      "\n",
      "                                   belt date_of_birth date_of_death  \\\n",
      "0                      WWE Championship     2/20/1921     6/26/1992   \n",
      "1                      WWE Championship     10/6/1935     4/18/2018   \n",
      "2                      WWE Championship     8/25/1942     2/18/2017   \n",
      "3                      WWE Championship    10/22/1942     2/12/2019   \n",
      "4                      WWE Championship     4/13/1937     6/19/1997   \n",
      "..                                  ...           ...           ...   \n",
      "407  WWE SmackDown Women's Championship     1/30/1987           NaN   \n",
      "408  WWE SmackDown Women's Championship      4/5/1986           NaN   \n",
      "409  WWE SmackDown Women's Championship     6/15/1989           NaN   \n",
      "410  WWE SmackDown Women's Championship      4/5/1986           NaN   \n",
      "411  WWE SmackDown Women's Championship     6/15/1989           NaN   \n",
      "\n",
      "                                      cause_of_death  \n",
      "0                                                NaN  \n",
      "1    Multiple organ failure due to heart problems[2]  \n",
      "2                                       Liver cancer  \n",
      "3                                                NaN  \n",
      "4                                      Heart failure  \n",
      "..                                               ...  \n",
      "407                                              NaN  \n",
      "408                                              NaN  \n",
      "409                                              NaN  \n",
      "410                                              NaN  \n",
      "411                                              NaN  \n",
      "\n",
      "[412 rows x 11 columns]\n"
     ]
    }
   ],
   "source": [
    "#creating a dataframe \n",
    "df=pd.read_csv('data.csv')\n",
    "print(df);\n",
    "#prints the entire data from data.csv"
   ]
  },
  {
   "cell_type": "code",
   "execution_count": 4,
   "metadata": {},
   "outputs": [
    {
     "name": "stdout",
     "output_type": "stream",
     "text": [
      "Index(['name', 'reign', 'days', 'date', 'event', 'location', 'link', 'belt',\n",
      "       'date_of_birth', 'date_of_death', 'cause_of_death'],\n",
      "      dtype='object')\n",
      "0                        WWE Championship\n",
      "1                        WWE Championship\n",
      "2                        WWE Championship\n",
      "3                        WWE Championship\n",
      "4                        WWE Championship\n",
      "                      ...                \n",
      "407    WWE SmackDown Women's Championship\n",
      "408    WWE SmackDown Women's Championship\n",
      "409    WWE SmackDown Women's Championship\n",
      "410    WWE SmackDown Women's Championship\n",
      "411    WWE SmackDown Women's Championship\n",
      "Name: belt, Length: 412, dtype: object\n"
     ]
    }
   ],
   "source": [
    "#reading data in pandas\n",
    "print(df.columns) #reading the headers\n",
    "print(df[\"belt\"]) #reading each specific columns\n"
   ]
  },
  {
   "cell_type": "code",
   "execution_count": 5,
   "metadata": {},
   "outputs": [
    {
     "name": "stdout",
     "output_type": "stream",
     "text": [
      "                 name              event                                belt\n",
      "0        Buddy Rogers         House show                    WWE Championship\n",
      "1    Bruno Sammartino         House show                    WWE Championship\n",
      "2         Ivan Koloff         House show                    WWE Championship\n",
      "3       Pedro Morales         House show                    WWE Championship\n",
      "4        Stan Stasiak         House show                    WWE Championship\n",
      "..                ...                ...                                 ...\n",
      "407       Becky Lynch    WrestleMania 35  WWE SmackDown Women's Championship\n",
      "408   Charlotte Flair  Money in the Bank  WWE SmackDown Women's Championship\n",
      "409            Bayley  Money in the Bank  WWE SmackDown Women's Championship\n",
      "410   Charlotte Flair     Hell in a Cell  WWE SmackDown Women's Championship\n",
      "411            Bayley          SmackDown  WWE SmackDown Women's Championship\n",
      "\n",
      "[412 rows x 3 columns]\n"
     ]
    }
   ],
   "source": [
    "#read each column\n",
    "print(df[['name','event','belt']])"
   ]
  },
  {
   "cell_type": "code",
   "execution_count": 6,
   "metadata": {},
   "outputs": [
    {
     "name": "stdout",
     "output_type": "stream",
     "text": [
      "                 name  reign  days       date              event  \\\n",
      "0        Buddy Rogers      1    36  11-Apr-63         House show   \n",
      "1    Bruno Sammartino      1  2803  17-May-63         House show   \n",
      "2         Ivan Koloff      1    21  18-Jan-71         House show   \n",
      "3       Pedro Morales      1  1027   8-Feb-71         House show   \n",
      "4        Stan Stasiak      1     9   1-Dec-73         House show   \n",
      "..                ...    ...   ...        ...                ...   \n",
      "407       Becky Lynch      3    41   8-Apr-19    WrestleMania 35   \n",
      "408   Charlotte Flair      4     0  19-May-19  Money in the Bank   \n",
      "409            Bayley      1   140  19-May-19  Money in the Bank   \n",
      "410   Charlotte Flair      5     5   6-Oct-19     Hell in a Cell   \n",
      "411            Bayley      2   247  11-Oct-19          SmackDown   \n",
      "\n",
      "                location                           link  \\\n",
      "0       Washington, D.C.  /wiki/Buddy_Rogers_(wrestler)   \n",
      "1           New York, NY         /wiki/Bruno_Sammartino   \n",
      "2           New York, NY              /wiki/Ivan_Koloff   \n",
      "3           New York, NY            /wiki/Pedro_Morales   \n",
      "4       Philadelphia, PA             /wiki/Stan_Stasiak   \n",
      "..                   ...                            ...   \n",
      "407  East Rutherford, NJ              /wiki/Becky_Lynch   \n",
      "408         Hartford, CT          /wiki/Charlotte_Flair   \n",
      "409         Hartford, CT        /wiki/Bayley_(wrestler)   \n",
      "410       Sacramento, CA          /wiki/Charlotte_Flair   \n",
      "411         Paradise, NV        /wiki/Bayley_(wrestler)   \n",
      "\n",
      "                                   belt  \n",
      "0                      WWE Championship  \n",
      "1                      WWE Championship  \n",
      "2                      WWE Championship  \n",
      "3                      WWE Championship  \n",
      "4                      WWE Championship  \n",
      "..                                  ...  \n",
      "407  WWE SmackDown Women's Championship  \n",
      "408  WWE SmackDown Women's Championship  \n",
      "409  WWE SmackDown Women's Championship  \n",
      "410  WWE SmackDown Women's Championship  \n",
      "411  WWE SmackDown Women's Championship  \n",
      "\n",
      "[412 rows x 8 columns]\n"
     ]
    }
   ],
   "source": [
    "#now using required data for the dataframe\n",
    "#removing the unecessary attributes like dob, cause of death etc \n",
    "new_df=df[['name', 'reign', 'days', 'date', 'event', 'location', 'link', 'belt']]\n",
    "print(new_df)"
   ]
  },
  {
   "cell_type": "code",
   "execution_count": null,
   "metadata": {},
   "outputs": [],
   "source": [
    "#selecting only numeric values and not the string dtype\n",
    "numeric_cols = new_df.select_dtypes(include=['number']).columns\n",
    "\n",
    "# Calculate the correlation between rows using only numeric column\n",
    "row_corr = new_df[numeric_cols].corr()\n",
    "print(row_corr)\n"
   ]
  },
  {
   "cell_type": "code",
   "execution_count": null,
   "metadata": {},
   "outputs": [],
   "source": [
    "#now working on visualistion of the given dataset\n",
    "#reigns is considered as no of wins \n",
    "#creating a histogram \n",
    "sb.histplot(data=new_df,x=\"reign\",y=\"days\",)"
   ]
  }
 ],
 "metadata": {
  "kernelspec": {
   "display_name": "Python 3",
   "language": "python",
   "name": "python3"
  },
  "language_info": {
   "codemirror_mode": {
    "name": "ipython",
    "version": 3
   },
   "file_extension": ".py",
   "mimetype": "text/x-python",
   "name": "python",
   "nbconvert_exporter": "python",
   "pygments_lexer": "ipython3",
   "version": "3.12.4"
  }
 },
 "nbformat": 4,
 "nbformat_minor": 2
}
